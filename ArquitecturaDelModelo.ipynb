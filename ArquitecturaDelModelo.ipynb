{
  "nbformat": 4,
  "nbformat_minor": 0,
  "metadata": {
    "colab": {
      "provenance": [],
      "authorship_tag": "ABX9TyNuD65u4SbhAqSSenT4U9vU",
      "include_colab_link": true
    },
    "kernelspec": {
      "name": "python3",
      "display_name": "Python 3"
    },
    "language_info": {
      "name": "python"
    }
  },
  "cells": [
    {
      "cell_type": "markdown",
      "metadata": {
        "id": "view-in-github",
        "colab_type": "text"
      },
      "source": [
        "<a href=\"https://colab.research.google.com/github/opensierra/CNN-LSTM-hybrid-model-for-ptb-xl-cardiopathology-detection/blob/main/ArquitecturaDelModelo.ipynb\" target=\"_parent\"><img src=\"https://colab.research.google.com/assets/colab-badge.svg\" alt=\"Open In Colab\"/></a>"
      ]
    },
    {
      "cell_type": "code",
      "source": [
        "!pip install wfdb\n",
        "!pip install tensorflow"
      ],
      "metadata": {
        "id": "__OM2yiJnKwf"
      },
      "execution_count": null,
      "outputs": []
    },
    {
      "cell_type": "code",
      "source": [
        "# Importar bibliotecas\n",
        "import pandas as pd\n",
        "import numpy as np\n",
        "import wfdb\n",
        "import ast\n",
        "import os\n",
        "from sklearn.preprocessing import MultiLabelBinarizer\n",
        "from tensorflow.keras.models import Sequential\n",
        "from tensorflow.keras.layers import Conv1D, MaxPooling1D, LSTM, Dense, Input\n",
        "from sklearn.metrics import classification_report, confusion_matrix\n",
        "import matplotlib.pyplot as plt\n",
        "from collections import Counter"
      ],
      "metadata": {
        "id": "ytfgO9ir3_Px"
      },
      "execution_count": 4,
      "outputs": []
    },
    {
      "cell_type": "code",
      "source": [
        "# Crear directorio para los datos\n",
        "!mkdir -p /content/ptbxl"
      ],
      "metadata": {
        "id": "-R5rFMZr4BlJ"
      },
      "execution_count": 5,
      "outputs": []
    },
    {
      "cell_type": "code",
      "source": [
        "# Descargar archivos de metadatos desde PhysioNet\n",
        "!wget -P /content/ptbxl https://physionet.org/files/ptb-xl/1.0.3/ptbxl_database.csv\n",
        "!wget -P /content/ptbxl https://physionet.org/files/ptb-xl/1.0.3/scp_statements.csv"
      ],
      "metadata": {
        "collapsed": true,
        "id": "zm19toGM4LXY"
      },
      "execution_count": null,
      "outputs": []
    },
    {
      "cell_type": "code",
      "source": [
        "# Descargar una muestra de datos ECG (records100/)\n",
        "# !wget -r -N -c -np -P /content/ptbxl https://physionet.org/files/ptb-xl/1.0.3/records100/00000/\n",
        "#!rm -rf /content/ptbxl/records100/\n",
        "!wget -r -N -c -np -P /content/ptbxl https://physionet.org/files/ptb-xl/1.0.3/records100"
      ],
      "metadata": {
        "collapsed": true,
        "id": "sJtHvBld4k9A"
      },
      "execution_count": null,
      "outputs": []
    },
    {
      "cell_type": "code",
      "source": [
        "# Establecer ruta al directorio de datos\n",
        "path = '/content/ptbxl/'"
      ],
      "metadata": {
        "id": "fXPuM_iU72-x"
      },
      "execution_count": null,
      "outputs": []
    },
    {
      "cell_type": "code",
      "source": [
        "# Cargar metadatos desde ptbxl_database.csv\n",
        "Y = pd.read_csv(path + 'ptbxl_database.csv', index_col='ecg_id')\n",
        "Y.scp_codes = Y.scp_codes.apply(lambda x: ast.literal_eval(x))"
      ],
      "metadata": {
        "id": "R7bgGsvk74Jh"
      },
      "execution_count": null,
      "outputs": []
    },
    {
      "cell_type": "code",
      "source": [
        "# Cargar scp_statements.csv para agregación diagnóstica\n",
        "agg_df = pd.read_csv(path + 'scp_statements.csv', index_col=0)\n",
        "agg_df = agg_df[agg_df.diagnostic == 1]\n",
        "\n",
        "def aggregate_diagnostic(y_dic):\n",
        "    tmp = []\n",
        "    for key in y_dic.keys():\n",
        "        if key in agg_df.index:\n",
        "            tmp.append(agg_df.loc[key].diagnostic_class)\n",
        "    return list(set(tmp))"
      ],
      "metadata": {
        "id": "cilWlWrk8D-Y"
      },
      "execution_count": null,
      "outputs": []
    },
    {
      "cell_type": "code",
      "source": [
        "# Crear columna con superclases diagnósticas\n",
        "Y['diagnostic_superclass'] = Y.scp_codes.apply(aggregate_diagnostic)"
      ],
      "metadata": {
        "id": "RxfqF5zd8OUZ"
      },
      "execution_count": null,
      "outputs": []
    },
    {
      "cell_type": "code",
      "source": [
        "# Función para cargar datos crudos de señales ECG\n",
        "def load_raw_data(df, sampling_rate, path):\n",
        "    if sampling_rate == 100:\n",
        "        data = []\n",
        "        for f in df.filename_lr:\n",
        "            file_path = path + f\n",
        "            if os.path.exists(file_path + '.hea'):\n",
        "                signal, _ = wfdb.rdsamp(file_path)\n",
        "                data.append(signal)\n",
        "            else:\n",
        "                print(f\"Archivo no encontrado: {file_path}\")\n",
        "        data = np.array(data)\n",
        "    else:\n",
        "        data = [wfdb.rdsamp(path + f) for f in df.filename_hr]\n",
        "        data = np.array([signal for signal, meta in data])\n",
        "    return data"
      ],
      "metadata": {
        "id": "2FzHI9mZ8UAR"
      },
      "execution_count": null,
      "outputs": []
    },
    {
      "cell_type": "code",
      "source": [
        "# Cargar datos a 100 Hz (baja resolución para menor uso de memoria)\n",
        "sampling_rate = 100\n",
        "X = load_raw_data(Y, sampling_rate, path)"
      ],
      "metadata": {
        "collapsed": true,
        "id": "SwLAfFsn8dmJ"
      },
      "execution_count": null,
      "outputs": []
    },
    {
      "cell_type": "code",
      "source": [
        "# Dividir en conjuntos de entrenamiento y prueba usando strat_fold\n",
        "test_fold = 10\n",
        "X_train = X[np.where(Y.strat_fold != test_fold)]\n",
        "y_train = Y[Y.strat_fold != test_fold].diagnostic_superclass\n",
        "X_test = X[np.where(Y.strat_fold == test_fold)]\n",
        "y_test = Y[Y.strat_fold == test_fold].diagnostic_superclass"
      ],
      "metadata": {
        "id": "C4VS56ZxWwPR"
      },
      "execution_count": null,
      "outputs": []
    },
    {
      "cell_type": "code",
      "source": [
        "# Codificar etiquetas para clasificación multietiqueta\n",
        "all_superclasses = set()\n",
        "for sc in y_train:\n",
        "    all_superclasses.update(sc)\n",
        "for sc in y_test:\n",
        "    all_superclasses.update(sc)\n",
        "all_superclasses = list(all_superclasses)\n",
        "number_of_classes = len(all_superclasses)\n",
        "\n",
        "mlb = MultiLabelBinarizer(classes=all_superclasses)\n",
        "y_train_encoded = mlb.fit_transform(y_train)\n",
        "y_test_encoded = mlb.transform(y_test)"
      ],
      "metadata": {
        "id": "WYiFggo-W1HI"
      },
      "execution_count": null,
      "outputs": []
    },
    {
      "cell_type": "code",
      "source": [
        "# Definir modelo híbrido LSTM-CNN\n",
        "model = Sequential()\n",
        "model.add(Input(shape=(1000, 12)))\n",
        "model.add(Conv1D(32, kernel_size=5, activation='relu'))\n",
        "model.add(MaxPooling1D(2))\n",
        "model.add(Conv1D(64, kernel_size=5, activation='relu'))\n",
        "model.add(MaxPooling1D(2))\n",
        "model.add(LSTM(64))\n",
        "model.add(Dense(number_of_classes, activation='sigmoid'))"
      ],
      "metadata": {
        "id": "pQ5ydQ-4W3If"
      },
      "execution_count": null,
      "outputs": []
    },
    {
      "cell_type": "code",
      "source": [
        "# Compilar modelo\n",
        "model.compile(loss='binary_crossentropy', optimizer='adam', metrics=['accuracy'])"
      ],
      "metadata": {
        "id": "8_PIg9AmXJIo"
      },
      "execution_count": null,
      "outputs": []
    },
    {
      "cell_type": "code",
      "source": [
        "# Entrenar modelo (habilite GPU para acelerar)\n",
        "history = model.fit(X_train, y_train_encoded, epochs=10, batch_size=32, validation_data=(X_test, y_test_encoded))"
      ],
      "metadata": {
        "id": "5VHGBtrYXOMH"
      },
      "execution_count": null,
      "outputs": []
    },
    {
      "cell_type": "code",
      "source": [
        "# Evaluar modelo\n",
        "y_pred = model.predict(X_test)\n",
        "y_pred_binary = (y_pred > 0.5).astype(int)"
      ],
      "metadata": {
        "colab": {
          "base_uri": "https://localhost:8080/"
        },
        "id": "pZrfJZNhcwdI",
        "outputId": "227c4358-4405-4c23-e1a7-ec1c6cee341f"
      },
      "execution_count": null,
      "outputs": [
        {
          "output_type": "stream",
          "name": "stdout",
          "text": [
            "\u001b[1m69/69\u001b[0m \u001b[32m━━━━━━━━━━━━━━━━━━━━\u001b[0m\u001b[37m\u001b[0m \u001b[1m5s\u001b[0m 71ms/step\n"
          ]
        }
      ]
    },
    {
      "cell_type": "code",
      "source": [
        "print(\"Reporte de clasificación:\")\n",
        "print(classification_report(y_test_encoded, y_pred_binary, target_names=mlb.classes_))"
      ],
      "metadata": {
        "colab": {
          "base_uri": "https://localhost:8080/"
        },
        "id": "Y9aLK_C-cuc6",
        "outputId": "7325e1c3-45a8-4f02-d5af-cf5eb041afcb"
      },
      "execution_count": null,
      "outputs": [
        {
          "output_type": "stream",
          "name": "stdout",
          "text": [
            "Reporte de clasificación:\n",
            "              precision    recall  f1-score   support\n",
            "\n",
            "          MI       0.77      0.59      0.67       550\n",
            "          CD       0.76      0.61      0.68       496\n",
            "        NORM       0.78      0.89      0.83       963\n",
            "         HYP       0.77      0.34      0.47       262\n",
            "        STTC       0.79      0.64      0.71       521\n",
            "\n",
            "   micro avg       0.78      0.68      0.73      2792\n",
            "   macro avg       0.78      0.61      0.67      2792\n",
            "weighted avg       0.78      0.68      0.72      2792\n",
            " samples avg       0.73      0.70      0.70      2792\n",
            "\n"
          ]
        },
        {
          "output_type": "stream",
          "name": "stderr",
          "text": [
            "/usr/local/lib/python3.11/dist-packages/sklearn/metrics/_classification.py:1565: UndefinedMetricWarning: Precision is ill-defined and being set to 0.0 in samples with no predicted labels. Use `zero_division` parameter to control this behavior.\n",
            "  _warn_prf(average, modifier, f\"{metric.capitalize()} is\", len(result))\n",
            "/usr/local/lib/python3.11/dist-packages/sklearn/metrics/_classification.py:1565: UndefinedMetricWarning: Recall is ill-defined and being set to 0.0 in samples with no true labels. Use `zero_division` parameter to control this behavior.\n",
            "  _warn_prf(average, modifier, f\"{metric.capitalize()} is\", len(result))\n",
            "/usr/local/lib/python3.11/dist-packages/sklearn/metrics/_classification.py:1565: UndefinedMetricWarning: F-score is ill-defined and being set to 0.0 in samples with no true nor predicted labels. Use `zero_division` parameter to control this behavior.\n",
            "  _warn_prf(average, modifier, f\"{metric.capitalize()} is\", len(result))\n"
          ]
        }
      ]
    },
    {
      "cell_type": "code",
      "source": [
        "# Matrices de confusión por clase\n",
        "for i, class_name in enumerate(mlb.classes_):\n",
        "    print(f\"Matriz de confusión para {class_name}:\")\n",
        "    print(confusion_matrix(y_test_encoded[:, i], y_pred_binary[:, i]))"
      ],
      "metadata": {
        "id": "Ypj7m963d8UY"
      },
      "execution_count": null,
      "outputs": []
    },
    {
      "cell_type": "code",
      "source": [
        "# Graficar historial de entrenamiento\n",
        "plt.plot(history.history['loss'], label='Pérdida de entrenamiento')\n",
        "plt.plot(history.history['val_loss'], label='Pérdida de validación')\n",
        "plt.legend()\n",
        "plt.title('Curvas de Pérdida')\n",
        "plt.show()\n",
        "\n",
        "plt.plot(history.history['accuracy'], label='Precisión de entrenamiento')\n",
        "plt.plot(history.history['val_accuracy'], label='Precisión de validación')\n",
        "plt.legend()\n",
        "plt.title('Curvas de Precisión')\n",
        "plt.show()"
      ],
      "metadata": {
        "colab": {
          "base_uri": "https://localhost:8080/",
          "height": 887
        },
        "id": "muieEb5geEtp",
        "outputId": "1787cb30-f548-4e50-c4c5-2be1ea6a6c6a"
      },
      "execution_count": null,
      "outputs": [
        {
          "output_type": "display_data",
          "data": {
            "text/plain": [
              "<Figure size 640x480 with 1 Axes>"
            ],
            "image/png": "[encoded data removed]"
          },
          "metadata": {}
        },
        {
          "output_type": "display_data",
          "data": {
            "text/plain": [
              "<Figure size 640x480 with 1 Axes>"
            ],
            "image/png": "[encoded data removed]"
          },
          "metadata": {}
        }
      ]
    },
    {
      "cell_type": "code",
      "source": [
        "# Estadísticas del conjunto de datos\n",
        "print(\"Número total de registros:\", len(Y))\n",
        "print(\"Número de registros de entrenamiento:\", len(X_train))\n",
        "print(\"Número de registros de prueba:\", len(X_test))\n",
        "print(\"Superclases diagnósticas:\", all_superclasses)\n",
        "\n",
        "superclass_counts = Counter()\n",
        "for sc in Y.diagnostic_superclass:\n",
        "    superclass_counts.update(sc)\n",
        "print(\"Frecuencia de superclases:\", superclass_counts)"
      ],
      "metadata": {
        "colab": {
          "base_uri": "https://localhost:8080/"
        },
        "id": "Ca3Orbt7eI-5",
        "outputId": "0496df70-29a9-4d8c-ce1f-e514a6007023"
      },
      "execution_count": null,
      "outputs": [
        {
          "output_type": "stream",
          "name": "stdout",
          "text": [
            "Número total de registros: 21799\n",
            "Número de registros de entrenamiento: 19601\n",
            "Número de registros de prueba: 2198\n",
            "Superclases diagnósticas: ['MI', 'CD', 'NORM', 'HYP', 'STTC']\n",
            "Frecuencia de superclases: Counter({'NORM': 9514, 'MI': 5469, 'STTC': 5235, 'CD': 4898, 'HYP': 2649})\n"
          ]
        }
      ]
    }
  ]
}